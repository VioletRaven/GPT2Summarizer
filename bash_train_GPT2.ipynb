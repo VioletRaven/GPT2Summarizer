{
  "cells": [
    {
      "cell_type": "code",
      "execution_count": null,
      "metadata": {
        "id": "6d1ca6f3"
      },
      "outputs": [],
      "source": [
        "!pip install transformers"
      ]
    },
    {
      "cell_type": "code",
      "execution_count": null,
      "metadata": {
        "id": "7lqB5WNxgfyf"
      },
      "outputs": [],
      "source": [
        "import os"
      ]
    },
    {
      "cell_type": "code",
      "execution_count": null,
      "metadata": {
        "id": "OYS439xzBEBc"
      },
      "outputs": [],
      "source": [
        "!git clone https://github.com/data-prestige/GPT-2_Summarizer.git\n",
        "!git pull"
      ]
    },
    {
      "cell_type": "code",
      "execution_count": null,
      "metadata": {
        "id": "lz2eFeMTjDuG"
      },
      "outputs": [],
      "source": [
        "'''\n",
        "run this for old dataset\n",
        "'''\n",
        "%cd GPT-2_Summarizer\n",
        "if not os.path.exists(\"./articoli.zip\"):\n",
        "    os.system('gdown --id \"1PRI22qGx1v2ppWGl5Ub7Z2ZiXg0EhOpp\" --output \"./articoli.zip\"')\n",
        "!mkdir articoli\n",
        "!mkdir weights\n",
        "!mkdir output\n",
        "\n",
        "!unzip articoli.zip -d articoli\n",
        "!gdown --id 1oElTndZC3SKCYM1tA5WSJ8-IqKUIqwsK"
      ]
    },
    {
      "cell_type": "code",
      "execution_count": null,
      "metadata": {
        "id": "SBvITYkWeRB7"
      },
      "outputs": [],
      "source": [
        "'''\n",
        "run this for new dataset\n",
        "'''\n",
        "%cd GPT-2_Summarizer\n",
        "if not os.path.exists(\"./articoli_nuovi.zip\"):\n",
        "    os.system('gdown --id \"1ywTWq6EJNlDxL3OeKteAP37raW0Pg0eX\" --output \"./articoli_nuovi.zip\"')\n",
        "!mkdir articoli_nuovi\n",
        "!mkdir weights\n",
        "!mkdir output\n",
        "\n",
        "!unzip articoli_nuovi.zip -d articoli_nuovi\n",
        "!gdown --id 1AIShy30wjYznYO6brKQ9JjzHjRByUImu"
      ]
    },
    {
      "cell_type": "code",
      "execution_count": null,
      "metadata": {
        "id": "RV15sgV-odj9"
      },
      "outputs": [],
      "source": [
        "!python \"./train_new.py\" --model_name 'GroNLP/gpt2-small-italian' --lr 0.00005 --gradient_accumulation_steps 32 --batch_size 1 --num_train_epochs 1 --output_dir ./output --model_dir ./weights --root_dir './articoli_nuovi' --ids_file \"./index_articoli_nuovi.json\""
      ]
    }
  ],
  "metadata": {
    "accelerator": "GPU",
    "colab": {
      "collapsed_sections": [],
      "name": "bash_train_GPT2.ipynb",
      "provenance": []
    },
    "kernelspec": {
      "display_name": "Python 3",
      "name": "python3"
    },
    "language_info": {
      "name": "python"
    }
  },
  "nbformat": 4,
  "nbformat_minor": 0
}
